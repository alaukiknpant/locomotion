{
 "cells": [
  {
   "cell_type": "markdown",
   "metadata": {},
   "source": [
    "# Import locomotion and IGL"
   ]
  },
  {
   "cell_type": "code",
   "execution_count": 141,
   "metadata": {},
   "outputs": [],
   "source": [
    "import sys\n",
    "import os\n",
    "PATH_TO_DIRECTORY = os.getcwd()\n",
    "sys.path.append(PATH_TO_DIRECTORY)\n",
    "import locomotion\n",
    "\n",
    "from math import ceil, exp, log, sin, asin, pi, acosh, cosh, sinh, cos, acos, atanh, tanh\n",
    "from numpy import min, mean, std, array, linalg, dot, cross\n",
    "from scipy.optimize import minimize_scalar"
   ]
  },
  {
   "cell_type": "code",
   "execution_count": 4,
   "metadata": {},
   "outputs": [],
   "source": [
    "import igl\n",
    "import scipy as sp\n",
    "import numpy as np\n",
    "from meshplot import plot, subplot, interact"
   ]
  },
  {
   "cell_type": "markdown",
   "metadata": {},
   "source": [
    "# Testing out IGL methods"
   ]
  },
  {
   "cell_type": "code",
   "execution_count": 44,
   "metadata": {},
   "outputs": [],
   "source": [
    "# A cube, just trying out stuff\n",
    "v = np.array([[-0.5, -0.5, 0.5],\n",
    "              [0.5, -0.5, 0.5],\n",
    "              [-0.5, 0.5 , 0.5],\n",
    "              [0.5, 0.5, 0.5],\n",
    "              [-0.5, 0.5, -0.5],\n",
    "              [0.5, 0.5, -0.5],\n",
    "              [-0.5, -0.5, -0.5],\n",
    "              [0.5, -0.5, -0.5]])\n",
    "\n",
    "f = np.array([[0, 1, 2],\n",
    "              [1, 2, 3],\n",
    "              [2, 3, 5],\n",
    "              [2, 5, 4],\n",
    "              [0, 2, 6],\n",
    "              [0, 2, 4],\n",
    "              [0, 1, 7],\n",
    "              [0, 7, 6],\n",
    "              [6, 7, 4],\n",
    "              [7, 4, 5],\n",
    "              [1, 3, 5],\n",
    "              [1, 5, 7]])"
   ]
  },
  {
   "cell_type": "code",
   "execution_count": 45,
   "metadata": {},
   "outputs": [
    {
     "data": {
      "text/plain": [
       "array([[100.,  80.,  99.],\n",
       "       [110.,  80.,  99.],\n",
       "       [ 90.,  80.,  99.],\n",
       "       ...,\n",
       "       [190.,  70.,  50.],\n",
       "       [190.,  80.,  50.],\n",
       "       [190.,  90.,  50.]])"
      ]
     },
     "execution_count": 45,
     "metadata": {},
     "output_type": "execute_result"
    }
   ],
   "source": [
    "v, f = igl.read_triangle_mesh(\"Med_NSS_07.delaunay.off\")\n",
    "# v: Array of vertices\n",
    "# f: Array of vertices making up each face\n",
    "v"
   ]
  },
  {
   "cell_type": "code",
   "execution_count": 46,
   "metadata": {},
   "outputs": [
    {
     "data": {
      "text/plain": [
       "array([ 29,  40,  47,  36,  71,  97,  65,  83, 115, 179, 215, 282, 273,\n",
       "       272, 271, 270, 269, 268, 267, 266, 265, 264, 274, 283, 290, 296,\n",
       "       303, 308, 309, 311, 313, 315, 317, 318, 320, 321, 323, 325, 332,\n",
       "       342, 352, 353, 354, 355, 356, 357, 358, 359, 360, 361, 351, 341,\n",
       "       230, 149, 147, 109,  78,  57,  35], dtype=int64)"
      ]
     },
     "execution_count": 46,
     "metadata": {},
     "output_type": "execute_result"
    }
   ],
   "source": [
    "## Find the (longest ordered) open boundary - array indices of each vertex\n",
    "bnd = igl.boundary_loop(f)"
   ]
  },
  {
   "cell_type": "code",
   "execution_count": 69,
   "metadata": {},
   "outputs": [],
   "source": [
    "## Map the boundary to a circle, preserving edge proportions\n",
    "# Array of 2D coordinates, vertices of unit circle\n",
    "bnd_uv = igl.map_vertices_to_circle(v, bnd)"
   ]
  },
  {
   "cell_type": "code",
   "execution_count": 70,
   "metadata": {},
   "outputs": [
    {
     "data": {
      "application/vnd.jupyter.widget-view+json": {
       "model_id": "d4b7b2d7550d4234a92d085313cd1cd8",
       "version_major": 2,
       "version_minor": 0
      },
      "text/plain": [
       "Renderer(camera=PerspectiveCamera(children=(DirectionalLight(color='white', intensity=0.6, position=(1.7553567…"
      ]
     },
     "metadata": {},
     "output_type": "display_data"
    },
    {
     "data": {
      "application/vnd.jupyter.widget-view+json": {
       "model_id": "5f2149da7d3242ab8f297fcd2a99f048",
       "version_major": 2,
       "version_minor": 0
      },
      "text/plain": [
       "interactive(children=(Dropdown(description='mode', options=('3D', '2D'), value='3D'), Output()), _dom_classes=…"
      ]
     },
     "metadata": {},
     "output_type": "display_data"
    }
   ],
   "source": [
    "p = plot(bnd_uv, f, uv=uv, shading={\"wireframe\": False, \"flat\": False}, return_plot=True)\n",
    "\n",
    "@interact(mode=['3D','2D'])\n",
    "def switch(mode):\n",
    "    if mode == \"3D\":\n",
    "        # Original faces and vertices\n",
    "        plot(v, f, uv=uv, shading={\"wireframe\": False, \"flat\": False}, plot=p)\n",
    "    if mode == \"2D\":\n",
    "        # Parametrised vertices\n",
    "        plot(bnd_uv, bnd_f, uv=uv, shading={\"wireframe\": True, \"flat\": False}, plot=p)"
   ]
  },
  {
   "cell_type": "code",
   "execution_count": 74,
   "metadata": {},
   "outputs": [],
   "source": [
    "## Harmonic parametrization for the internal vertices\n",
    "# All vertices mapped to unit circle given boundary circle\n",
    "\n",
    "uv = igl.harmonic_weights(v, f, bnd, bnd_uv, 1)\n",
    "# Make vertices 3D with 0 for plotting\n",
    "v_p = np.hstack([uv, np.zeros((uv.shape[0],1))])"
   ]
  },
  {
   "cell_type": "code",
   "execution_count": 75,
   "metadata": {},
   "outputs": [
    {
     "data": {
      "application/vnd.jupyter.widget-view+json": {
       "model_id": "8dc55ce95ffe4e4fa6843eb80a79c331",
       "version_major": 2,
       "version_minor": 0
      },
      "text/plain": [
       "Renderer(camera=PerspectiveCamera(children=(DirectionalLight(color='white', intensity=0.6, position=(95.0, 45.…"
      ]
     },
     "metadata": {},
     "output_type": "display_data"
    },
    {
     "data": {
      "application/vnd.jupyter.widget-view+json": {
       "model_id": "31f04288dde943dda95e524cfff979f3",
       "version_major": 2,
       "version_minor": 0
      },
      "text/plain": [
       "interactive(children=(Dropdown(description='mode', options=('3D', '2D'), value='3D'), Output()), _dom_classes=…"
      ]
     },
     "metadata": {},
     "output_type": "display_data"
    }
   ],
   "source": [
    "p = plot(v, f, uv=uv, shading={\"wireframe\": False, \"flat\": False}, return_plot=True)\n",
    "\n",
    "@interact(mode=['3D','2D'])\n",
    "def switch(mode):\n",
    "    if mode == \"3D\":\n",
    "        # Original faces and vertices\n",
    "        plot(v, f, uv=uv, shading={\"wireframe\": False, \"flat\": False}, plot=p)\n",
    "    if mode == \"2D\":\n",
    "        # Parametrised vertices\n",
    "        plot(v_p, f, uv=uv, shading={\"wireframe\": True, \"flat\": False}, plot=p)"
   ]
  },
  {
   "cell_type": "markdown",
   "metadata": {},
   "source": [
    "# Get an animal as an example"
   ]
  },
  {
   "cell_type": "code",
   "execution_count": 99,
   "metadata": {},
   "outputs": [
    {
     "name": "stdout",
     "output_type": "stream",
     "text": [
      "LOG: Extracting coordinates for Animal SS_01...\n",
      "LOG: Extracting coordinates for Animal SS_02...\n",
      "LOG: Extracting coordinates for Animal NSS_01...\n",
      "LOG: Extracting coordinates for Animal NSS_02...\n"
     ]
    }
   ],
   "source": [
    "info_file = PATH_TO_DIRECTORY + \"/samples/sample_check.json\"\n",
    "animals = locomotion.getAnimalObjs( info_file )"
   ]
  },
  {
   "cell_type": "code",
   "execution_count": 107,
   "metadata": {},
   "outputs": [],
   "source": [
    "# This is Animal SS_01\n",
    "a = animals[0]"
   ]
  },
  {
   "cell_type": "markdown",
   "metadata": {},
   "source": [
    "# Modifying getFlatCoordinates"
   ]
  },
  {
   "cell_type": "code",
   "execution_count": 121,
   "metadata": {},
   "outputs": [],
   "source": [
    "frequencies = locomotion.heatmap.getFrequencies(a, a.getExpStartTime(), a.getExpEndTime())\n",
    "original_coordinates = locomotion.heatmap.getVertexCoordinates(a, frequencies)\n",
    "a.setNumVerts(len(original_coordinates))\n",
    "a.setRegularCoordinates(original_coordinates)\n",
    "triangles = locomotion.heatmap.getTriangles(a)\n",
    "a.setTriangulation(triangles)\n",
    "\n",
    "#calculate and store colors for output file\n",
    "colors = locomotion.heatmap.getColors(a)\n",
    "a.setColors(colors)\n",
    "\n",
    "v, f = original_coordinates, triangles"
   ]
  },
  {
   "cell_type": "code",
   "execution_count": 142,
   "metadata": {},
   "outputs": [],
   "source": [
    "# insert IGL stuff here!!!\n",
    "# Check that boundary vertices do the same thing\n",
    "bnd = igl.boundary_loop(f)\n",
    "# Check why the boundary from igl and from our own function is different?\n",
    "# bnd = locomotion.heatmap.getBoundaryVertices(a)\n",
    "# bnd\n",
    "\n",
    "## Map the boundary to a circle, preserving edge proportions\n",
    "# Array of 2D coordinates, vertices of unit circle\n",
    "bnd_uv = igl.map_vertices_to_circle(v, bnd)\n",
    "\n",
    "## Harmonic parametrization for the internal vertices\n",
    "# All vertices mapped to unit circle given boundary circle\n",
    "\n",
    "uv = igl.harmonic_weights(v, f, bnd, bnd_uv, 1)\n",
    "uv\n",
    "\n",
    "flat_coordinates = [[tanh(c[0])*cos(c[1]),tanh(c[0])*sin(c[1])] for c in uv]"
   ]
  },
  {
   "cell_type": "code",
   "execution_count": 134,
   "metadata": {},
   "outputs": [
    {
     "data": {
      "application/vnd.jupyter.widget-view+json": {
       "model_id": "431eeb3b27c540edab1b9da8eb915e49",
       "version_major": 2,
       "version_minor": 0
      },
      "text/plain": [
       "Renderer(camera=PerspectiveCamera(children=(DirectionalLight(color='white', intensity=0.6, position=(95.0, 45.…"
      ]
     },
     "metadata": {},
     "output_type": "display_data"
    },
    {
     "data": {
      "application/vnd.jupyter.widget-view+json": {
       "model_id": "9ad5a75cf84b48f3b0b5204194e10546",
       "version_major": 2,
       "version_minor": 0
      },
      "text/plain": [
       "interactive(children=(Dropdown(description='mode', options=('3D', '2D'), value='3D'), Output()), _dom_classes=…"
      ]
     },
     "metadata": {},
     "output_type": "display_data"
    }
   ],
   "source": [
    "p = plot(v, f, uv=uv, shading={\"wireframe\": False, \"flat\": False}, return_plot=True)\n",
    "\n",
    "@interact(mode=['3D','2D'])\n",
    "def switch(mode):\n",
    "    if mode == \"3D\":\n",
    "        # Original faces and vertices\n",
    "        plot(v, f, uv=uv, shading={\"wireframe\": False, \"flat\": False}, plot=p)\n",
    "    if mode == \"2D\":\n",
    "        # Parametrised vertices\n",
    "        plot(v_p, f, uv=uv, shading={\"wireframe\": True, \"flat\": False}, plot=p)"
   ]
  },
  {
   "cell_type": "code",
   "execution_count": 155,
   "metadata": {},
   "outputs": [
    {
     "data": {
      "text/plain": [
       "[[0, 0, 43.17836348553121],\n",
       " [0, 10, 43.17836348553121],\n",
       " [0, 20, 43.17836348553121],\n",
       " [0, 30, 43.17836348553121],\n",
       " [0, 40, 43.17836348553121],\n",
       " [0, 50, 43.17836348553121],\n",
       " [0, 60, 43.17836348553121],\n",
       " [0, 70, 43.17836348553121],\n",
       " [0, 80, 43.17836348553121],\n",
       " [0, 90, 43.17836348553121],\n",
       " [10, 0, 43.17836348553121],\n",
       " [10, 10, 43.17836348553121],\n",
       " [10, 20, 43.17836348553121],\n",
       " [10, 30, 43.17836348553121],\n",
       " [10, 40, 43.17836348553121],\n",
       " [10, 50, 43.17836348553121],\n",
       " [10, 60, 43.17836348553121],\n",
       " [10, 70, 43.17836348553121],\n",
       " [10, 80, 43.17836348553121],\n",
       " [10, 90, 43.17836348553121],\n",
       " [20, 0, 43.17836348553121],\n",
       " [20, 10, 43.17836348553121],\n",
       " [20, 20, 43.17836348553121],\n",
       " [20, 30, 43.17836348553121],\n",
       " [20, 40, 43.17836348553121],\n",
       " [20, 50, 43.17836348553121],\n",
       " [20, 60, 43.17836348553121],\n",
       " [20, 70, 43.17836348553121],\n",
       " [20, 80, 43.17836348553121],\n",
       " [20, 90, 43.17836348553121],\n",
       " [30, 0, 43.17836348553121],\n",
       " [30, 10, 43.17836348553121],\n",
       " [30, 20, 43.17836348553121],\n",
       " [30, 30, 43.17836348553121],\n",
       " [30, 40, 43.17836348553121],\n",
       " [30, 50, 43.17836348553121],\n",
       " [30, 60, 43.17836348553121],\n",
       " [30, 70, 43.17836348553121],\n",
       " [30, 80, 43.17836348553121],\n",
       " [30, 90, 43.17836348553121],\n",
       " [40, 0, 43.17836348553121],\n",
       " [40, 10, 43.17836348553121],\n",
       " [40, 20, 43.17836348553121],\n",
       " [40, 30, 43.17836348553121],\n",
       " [40, 40, 43.17836348553121],\n",
       " [40, 50, 43.17836348553121],\n",
       " [40, 60, 43.17836348553121],\n",
       " [40, 70, 43.17836348553121],\n",
       " [40, 80, 43.17836348553121],\n",
       " [40, 90, 43.17836348553121],\n",
       " [50, 0, 43.17836348553121],\n",
       " [50, 10, 43.17836348553121],\n",
       " [50, 20, 43.17836348553121],\n",
       " [50, 30, 43.17836348553121],\n",
       " [50, 40, 43.17836348553121],\n",
       " [50, 50, 43.17836348553121],\n",
       " [50, 60, 43.17836348553121],\n",
       " [50, 70, 43.17836348553121],\n",
       " [50, 80, 43.17836348553121],\n",
       " [50, 90, 43.17836348553121],\n",
       " [60, 0, 43.17836348553121],\n",
       " [60, 10, 43.17836348553121],\n",
       " [60, 20, 43.17836348553121],\n",
       " [60, 30, 95.49392576785489],\n",
       " [60, 40, 43.17836348553121],\n",
       " [60, 50, 43.17836348553121],\n",
       " [60, 60, 43.17836348553121],\n",
       " [60, 70, 43.17836348553121],\n",
       " [60, 80, 43.17836348553121],\n",
       " [60, 90, 43.17836348553121],\n",
       " [70, 0, 43.17836348553121],\n",
       " [70, 10, 43.17836348553121],\n",
       " [70, 20, 43.17836348553121],\n",
       " [70, 30, 92.40670552904584],\n",
       " [70, 40, 43.17836348553121],\n",
       " [70, 50, 43.17836348553121],\n",
       " [70, 60, 43.17836348553121],\n",
       " [70, 70, 43.17836348553121],\n",
       " [70, 80, 43.17836348553121],\n",
       " [70, 90, 43.17836348553121],\n",
       " [80, 0, 43.17836348553121],\n",
       " [80, 10, 43.17836348553121],\n",
       " [80, 20, 56.95767897787781],\n",
       " [80, 30, 69.73746064658222],\n",
       " [80, 40, 43.17836348553121],\n",
       " [80, 50, 43.17836348553121],\n",
       " [80, 60, 43.17836348553121],\n",
       " [80, 70, 43.17836348553121],\n",
       " [80, 80, 43.17836348553121],\n",
       " [80, 90, 43.17836348553121],\n",
       " [90, 0, 43.17836348553121],\n",
       " [90, 10, 43.17836348553121],\n",
       " [90, 20, 69.73746064658222],\n",
       " [90, 30, 43.17836348553121],\n",
       " [90, 40, 43.17836348553121],\n",
       " [90, 50, 43.17836348553121],\n",
       " [90, 60, 43.17836348553121],\n",
       " [90, 70, 43.17836348553121],\n",
       " [90, 80, 43.17836348553121],\n",
       " [90, 90, 43.17836348553121],\n",
       " [100, 0, 43.17836348553121],\n",
       " [100, 10, 43.17836348553121],\n",
       " [100, 20, 69.73746064658222],\n",
       " [100, 30, 43.17836348553121],\n",
       " [100, 40, 43.17836348553121],\n",
       " [100, 50, 43.17836348553121],\n",
       " [100, 60, 43.17836348553121],\n",
       " [100, 70, 43.17836348553121],\n",
       " [100, 80, 43.17836348553121],\n",
       " [100, 90, 43.17836348553121],\n",
       " [110, 0, 43.17836348553121],\n",
       " [110, 10, 43.17836348553121],\n",
       " [110, 20, 80.05170936780563],\n",
       " [110, 30, 43.17836348553121],\n",
       " [110, 40, 43.17836348553121],\n",
       " [110, 50, 43.17836348553121],\n",
       " [110, 60, 43.17836348553121],\n",
       " [110, 70, 43.17836348553121],\n",
       " [110, 80, 43.17836348553121],\n",
       " [110, 90, 43.17836348553121],\n",
       " [120, 0, 43.17836348553121],\n",
       " [120, 10, 43.17836348553121],\n",
       " [120, 20, 87.4816300288627],\n",
       " [120, 30, 43.17836348553121],\n",
       " [120, 40, 43.17836348553121],\n",
       " [120, 50, 43.17836348553121],\n",
       " [120, 60, 43.17836348553121],\n",
       " [120, 70, 43.17836348553121],\n",
       " [120, 80, 43.17836348553121],\n",
       " [120, 90, 43.17836348553121],\n",
       " [130, 0, 43.17836348553121],\n",
       " [130, 10, 43.17836348553121],\n",
       " [130, 20, 97.36180407003519],\n",
       " [130, 30, 43.17836348553121],\n",
       " [130, 40, 43.17836348553121],\n",
       " [130, 50, 43.17836348553121],\n",
       " [130, 60, 43.17836348553121],\n",
       " [130, 70, 43.17836348553121],\n",
       " [130, 80, 43.17836348553121],\n",
       " [130, 90, 43.17836348553121],\n",
       " [140, 0, 43.17836348553121],\n",
       " [140, 10, 43.17836348553121],\n",
       " [140, 20, 99.11438128423111],\n",
       " [140, 30, 43.17836348553121],\n",
       " [140, 40, 43.17836348553121],\n",
       " [140, 50, 43.17836348553121],\n",
       " [140, 60, 43.17836348553121],\n",
       " [140, 70, 43.17836348553121],\n",
       " [140, 80, 43.17836348553121],\n",
       " [140, 90, 43.17836348553121],\n",
       " [150, 0, 43.17836348553121],\n",
       " [150, 10, 43.17836348553121],\n",
       " [150, 20, 92.40670552904584],\n",
       " [150, 30, 43.17836348553121],\n",
       " [150, 40, 43.17836348553121],\n",
       " [150, 50, 43.17836348553121],\n",
       " [150, 60, 43.17836348553121],\n",
       " [150, 70, 43.17836348553121],\n",
       " [150, 80, 43.17836348553121],\n",
       " [150, 90, 43.17836348553121],\n",
       " [160, 0, 43.17836348553121],\n",
       " [160, 10, 43.17836348553121],\n",
       " [160, 20, 98.467824145905],\n",
       " [160, 30, 43.17836348553121],\n",
       " [160, 40, 43.17836348553121],\n",
       " [160, 50, 43.17836348553121],\n",
       " [160, 60, 43.17836348553121],\n",
       " [160, 70, 43.17836348553121],\n",
       " [160, 80, 43.17836348553121],\n",
       " [160, 90, 43.17836348553121],\n",
       " [170, 0, 43.17836348553121],\n",
       " [170, 10, 43.17836348553121],\n",
       " [170, 20, 92.40670552904584],\n",
       " [170, 30, 43.17836348553121],\n",
       " [170, 40, 43.17836348553121],\n",
       " [170, 50, 43.17836348553121],\n",
       " [170, 60, 43.17836348553121],\n",
       " [170, 70, 43.17836348553121],\n",
       " [170, 80, 43.17836348553121],\n",
       " [170, 90, 43.17836348553121],\n",
       " [180, 0, 43.17836348553121],\n",
       " [180, 10, 43.17836348553121],\n",
       " [180, 20, 56.95767897787781],\n",
       " [180, 30, 95.49392576785489],\n",
       " [180, 40, 43.17836348553121],\n",
       " [180, 50, 43.17836348553121],\n",
       " [180, 60, 43.17836348553121],\n",
       " [180, 70, 43.17836348553121],\n",
       " [180, 80, 43.17836348553121],\n",
       " [180, 90, 43.17836348553121],\n",
       " [190, 0, 43.17836348553121],\n",
       " [190, 10, 43.17836348553121],\n",
       " [190, 20, 43.17836348553121],\n",
       " [190, 30, 92.40670552904584],\n",
       " [190, 40, 99.90293297779768],\n",
       " [190, 50, 99.48951467358721],\n",
       " [190, 60, 92.40670552904584],\n",
       " [190, 70, 43.17836348553121],\n",
       " [190, 80, 43.17836348553121],\n",
       " [190, 90, 43.17836348553121]]"
      ]
     },
     "execution_count": 155,
     "metadata": {},
     "output_type": "execute_result"
    }
   ],
   "source": [
    "f = a.getTriangulation()\n",
    "# boundary_vertices = igl.boundary_loop(f)\n",
    "type(a.getRegularCoordinates())\n",
    "a.getRegularCoordinates()"
   ]
  },
  {
   "cell_type": "code",
   "execution_count": 154,
   "metadata": {},
   "outputs": [
    {
     "ename": "IndexError",
     "evalue": "list index out of range",
     "output_type": "error",
     "traceback": [
      "\u001b[0;31m---------------------------------------------------------------------------\u001b[0m",
      "\u001b[0;31mIndexError\u001b[0m                                Traceback (most recent call last)",
      "\u001b[0;32m<ipython-input-154-b5d343090ed7>\u001b[0m in \u001b[0;36m<module>\u001b[0;34m\u001b[0m\n\u001b[1;32m      2\u001b[0m \u001b[0;31m# locomotion.trajectory.getCurveData( a )\u001b[0m\u001b[0;34m\u001b[0m\u001b[0;34m\u001b[0m\u001b[0;34m\u001b[0m\u001b[0m\n\u001b[1;32m      3\u001b[0m \u001b[0;31m# locomotion.heatmap.getSurfaceData(a, grid_size)\u001b[0m\u001b[0;34m\u001b[0m\u001b[0;34m\u001b[0m\u001b[0;34m\u001b[0m\u001b[0m\n\u001b[0;32m----> 4\u001b[0;31m \u001b[0mlocomotion\u001b[0m\u001b[0;34m.\u001b[0m\u001b[0mheatmap\u001b[0m\u001b[0;34m.\u001b[0m\u001b[0mgetFlatCoordinates\u001b[0m\u001b[0;34m(\u001b[0m\u001b[0ma\u001b[0m\u001b[0;34m)\u001b[0m\u001b[0;34m\u001b[0m\u001b[0;34m\u001b[0m\u001b[0m\n\u001b[0m",
      "\u001b[0;32m~/locomotion_resources/locomotion_package/locomotion/heatmap.py\u001b[0m in \u001b[0;36mgetFlatCoordinates\u001b[0;34m(animal_obj)\u001b[0m\n\u001b[1;32m    353\u001b[0m \u001b[0;34m\u001b[0m\u001b[0m\n\u001b[1;32m    354\u001b[0m   \u001b[0;31m# ========== START: INSERT LIBIGL CODE HERE FOR CALCULATING THE CONFORMAL FLATTENING ==============\u001b[0m\u001b[0;34m\u001b[0m\u001b[0;34m\u001b[0m\u001b[0;34m\u001b[0m\u001b[0m\n\u001b[0;32m--> 355\u001b[0;31m   \u001b[0mflattened_boundary\u001b[0m \u001b[0;34m=\u001b[0m \u001b[0migl\u001b[0m\u001b[0;34m.\u001b[0m\u001b[0mmap_vertices_to_circle\u001b[0m\u001b[0;34m(\u001b[0m\u001b[0mv\u001b[0m\u001b[0;34m,\u001b[0m \u001b[0mboundary_vertices\u001b[0m\u001b[0;34m)\u001b[0m\u001b[0;34m\u001b[0m\u001b[0;34m\u001b[0m\u001b[0m\n\u001b[0m\u001b[1;32m    356\u001b[0m   \u001b[0mprint\u001b[0m\u001b[0;34m(\u001b[0m\u001b[0mflattened_boundary\u001b[0m\u001b[0;34m)\u001b[0m\u001b[0;34m\u001b[0m\u001b[0;34m\u001b[0m\u001b[0m\n\u001b[1;32m    357\u001b[0m   \u001b[0mflat_coordinates\u001b[0m \u001b[0;34m=\u001b[0m \u001b[0migl\u001b[0m\u001b[0;34m.\u001b[0m\u001b[0mharmonic_weights\u001b[0m\u001b[0;34m(\u001b[0m\u001b[0mv\u001b[0m\u001b[0;34m,\u001b[0m \u001b[0mf\u001b[0m\u001b[0;34m,\u001b[0m \u001b[0mboundary_vertices\u001b[0m\u001b[0;34m,\u001b[0m \u001b[0mflattened_boundary\u001b[0m\u001b[0;34m,\u001b[0m \u001b[0;36m1\u001b[0m\u001b[0;34m)\u001b[0m\u001b[0;34m\u001b[0m\u001b[0;34m\u001b[0m\u001b[0m\n",
      "\u001b[0;32m~/locomotion_resources/locomotion_package/locomotion/heatmap.py\u001b[0m in \u001b[0;36m<listcomp>\u001b[0;34m(.0)\u001b[0m\n\u001b[1;32m    353\u001b[0m \u001b[0;34m\u001b[0m\u001b[0m\n\u001b[1;32m    354\u001b[0m   \u001b[0;31m# ========== START: INSERT LIBIGL CODE HERE FOR CALCULATING THE CONFORMAL FLATTENING ==============\u001b[0m\u001b[0;34m\u001b[0m\u001b[0;34m\u001b[0m\u001b[0;34m\u001b[0m\u001b[0m\n\u001b[0;32m--> 355\u001b[0;31m   \u001b[0mflattened_boundary\u001b[0m \u001b[0;34m=\u001b[0m \u001b[0migl\u001b[0m\u001b[0;34m.\u001b[0m\u001b[0mmap_vertices_to_circle\u001b[0m\u001b[0;34m(\u001b[0m\u001b[0mv\u001b[0m\u001b[0;34m,\u001b[0m \u001b[0mboundary_vertices\u001b[0m\u001b[0;34m)\u001b[0m\u001b[0;34m\u001b[0m\u001b[0;34m\u001b[0m\u001b[0m\n\u001b[0m\u001b[1;32m    356\u001b[0m   \u001b[0mprint\u001b[0m\u001b[0;34m(\u001b[0m\u001b[0mflattened_boundary\u001b[0m\u001b[0;34m)\u001b[0m\u001b[0;34m\u001b[0m\u001b[0;34m\u001b[0m\u001b[0m\n\u001b[1;32m    357\u001b[0m   \u001b[0mflat_coordinates\u001b[0m \u001b[0;34m=\u001b[0m \u001b[0migl\u001b[0m\u001b[0;34m.\u001b[0m\u001b[0mharmonic_weights\u001b[0m\u001b[0;34m(\u001b[0m\u001b[0mv\u001b[0m\u001b[0;34m,\u001b[0m \u001b[0mf\u001b[0m\u001b[0;34m,\u001b[0m \u001b[0mboundary_vertices\u001b[0m\u001b[0;34m,\u001b[0m \u001b[0mflattened_boundary\u001b[0m\u001b[0;34m,\u001b[0m \u001b[0;36m1\u001b[0m\u001b[0;34m)\u001b[0m\u001b[0;34m\u001b[0m\u001b[0;34m\u001b[0m\u001b[0m\n",
      "\u001b[0;31mIndexError\u001b[0m: list index out of range"
     ]
    }
   ],
   "source": [
    "grid_size = 10\n",
    "# locomotion.trajectory.getCurveData( a )\n",
    "# locomotion.heatmap.getSurfaceData(a, grid_size)\n",
    "locomotion.heatmap.getFlatCoordinates(a)"
   ]
  },
  {
   "cell_type": "code",
   "execution_count": null,
   "metadata": {},
   "outputs": [],
   "source": []
  }
 ],
 "metadata": {
  "kernelspec": {
   "display_name": "Python 3",
   "language": "python",
   "name": "python3"
  },
  "language_info": {
   "codemirror_mode": {
    "name": "ipython",
    "version": 3
   },
   "file_extension": ".py",
   "mimetype": "text/x-python",
   "name": "python",
   "nbconvert_exporter": "python",
   "pygments_lexer": "ipython3",
   "version": "3.7.4"
  }
 },
 "nbformat": 4,
 "nbformat_minor": 2
}
