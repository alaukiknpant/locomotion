{
 "cells": [
  {
   "cell_type": "markdown",
   "metadata": {},
   "source": [
    "## Path Setup\n",
    "First, we make sure that our path is setup. This is to check if we've manually installed our library correctly."
   ]
  },
  {
   "cell_type": "code",
   "execution_count": 2,
   "metadata": {},
   "outputs": [],
   "source": [
    "PATH_TO_DIRECTORY = \"/change/this/to/the/exact/path/to/your/directory\" \n",
    "PATH_TO_DIRECTORY = \"/home/zhongxuan/ync/compgeom\"\n",
    "import sys\n",
    "sys.path.append(PATH_TO_DIRECTORY)\n",
    "sys.path.append(PATH_TO_DIRECTORY + \"/locomotion\")"
   ]
  },
  {
   "cell_type": "code",
   "execution_count": 3,
   "metadata": {},
   "outputs": [],
   "source": [
    "# If this works, then we're good to go!\n",
    "import locomotion"
   ]
  },
  {
   "cell_type": "markdown",
   "metadata": {},
   "source": [
    "## Data Setup"
   ]
  },
  {
   "cell_type": "code",
   "execution_count": 4,
   "metadata": {},
   "outputs": [
    {
     "name": "stdout",
     "output_type": "stream",
     "text": [
      "Wrote the information entered into /home/zhongxuan/ync/compgeom/samples/sample_check.json\n"
     ]
    }
   ],
   "source": [
    "# No need to touch this\n",
    "species = \"merdaka\"\n",
    "exp_type = \"SS\"\n",
    "dim_x = 200\n",
    "dim_y = 100\n",
    "frames_per_sec = 20\n",
    "pixels_per_mm = 1.6\n",
    "start_time = 0\n",
    "end_time = 10\n",
    "baseline_start_time = 0\n",
    "baseline_end_time = 2\n",
    "\n",
    "import json\n",
    "jsonItems = [{\n",
    "    \"name\": \"SS_01\",\n",
    "    \"data_file_location\": PATH_TO_DIRECTORY + \"/samples/sample_data/SS_01.dat\",\n",
    "    \"animal_attributes\":\n",
    "    {\n",
    "      \"species\": species,\n",
    "      \"exp_type\": exp_type,\n",
    "      \"ID\": \"01\",\n",
    "      \"control_group\": \"False\"\n",
    "    },\n",
    "    \"capture_attributes\": \n",
    "    {\n",
    "      \"dim_x\": dim_x,\n",
    "      \"dim_y\": dim_y,\n",
    "      \"pixels_per_mm\": pixels_per_mm,\n",
    "      \"frames_per_sec\": frames_per_sec,\n",
    "      \"start_time\": start_time,\n",
    "      \"end_time\": end_time,\n",
    "      \"baseline_start_time\": baseline_start_time,\n",
    "      \"baseline_end_time\": baseline_end_time\n",
    "    }\n",
    "  },\n",
    "{\n",
    "    \"name\": \"SS_02\",\n",
    "    \"data_file_location\": PATH_TO_DIRECTORY + \"/samples/sample_data/SS_02.dat\",\n",
    "    \"animal_attributes\":\n",
    "    {\n",
    "      \"species\": species,\n",
    "      \"exp_type\": exp_type,\n",
    "      \"ID\": \"02\",\n",
    "      \"control_group\": \"False\"\n",
    "    },\n",
    "    \"capture_attributes\": \n",
    "    {\n",
    "      \"dim_x\": dim_x,\n",
    "      \"dim_y\": dim_y,\n",
    "      \"pixels_per_mm\": pixels_per_mm,\n",
    "      \"frames_per_sec\": frames_per_sec,\n",
    "      \"start_time\": start_time,\n",
    "      \"end_time\": end_time,\n",
    "      \"baseline_start_time\": baseline_start_time,\n",
    "      \"baseline_end_time\": baseline_end_time\n",
    "    }\n",
    "  },\n",
    "{\n",
    "    \"name\": \"NSS_01\",\n",
    "    \"data_file_location\": PATH_TO_DIRECTORY + \"/samples/sample_data/NSS_01.dat\",\n",
    "    \"animal_attributes\":\n",
    "    {\n",
    "      \"species\": species,\n",
    "      \"exp_type\": exp_type,\n",
    "      \"ID\": \"01\",\n",
    "      \"control_group\": \"True\"\n",
    "    },\n",
    "    \"capture_attributes\": \n",
    "    {\n",
    "      \"dim_x\": dim_x,\n",
    "      \"dim_y\": dim_y,\n",
    "      \"pixels_per_mm\": pixels_per_mm,\n",
    "      \"frames_per_sec\": frames_per_sec,\n",
    "      \"start_time\": start_time,\n",
    "      \"end_time\": end_time,\n",
    "      \"baseline_start_time\": baseline_start_time,\n",
    "      \"baseline_end_time\": baseline_end_time\n",
    "    }\n",
    "  },\n",
    "{\n",
    "    \"name\": \"NSS_02\",\n",
    "    \"data_file_location\": PATH_TO_DIRECTORY + \"/samples/sample_data/NSS_02.dat\",\n",
    "    \"animal_attributes\":\n",
    "    {\n",
    "      \"species\": species,\n",
    "      \"exp_type\": exp_type,\n",
    "      \"ID\": \"02\",\n",
    "      \"control_group\": \"True\"\n",
    "    },\n",
    "    \"capture_attributes\": \n",
    "    {\n",
    "      \"dim_x\": dim_x,\n",
    "      \"dim_y\": dim_y,\n",
    "      \"pixels_per_mm\": pixels_per_mm,\n",
    "      \"frames_per_sec\": frames_per_sec,\n",
    "      \"start_time\": start_time,\n",
    "      \"end_time\": end_time,\n",
    "      \"baseline_start_time\": baseline_start_time,\n",
    "      \"baseline_end_time\": baseline_end_time\n",
    "    }\n",
    "  }]\n",
    "\n",
    "outfilename = PATH_TO_DIRECTORY + \"/samples/sample_check.json\"\n",
    "jsonstr = json.dumps(jsonItems, indent=4)\n",
    "with open(outfilename, \"w\") as outfile:\n",
    "    outfile.write(jsonstr)\n",
    "    print(\"Wrote the information entered into %s\" % outfilename)"
   ]
  },
  {
   "cell_type": "code",
   "execution_count": 5,
   "metadata": {},
   "outputs": [
    {
     "name": "stdout",
     "output_type": "stream",
     "text": [
      "LOG: Extracting coordinates for Animal SS_01...\n",
      "LOG: Extracting coordinates for Animal SS_02...\n",
      "LOG: Extracting coordinates for Animal NSS_01...\n",
      "LOG: Extracting coordinates for Animal NSS_02...\n"
     ]
    }
   ],
   "source": [
    "info_file = outfilename\n",
    "animals = locomotion.getAnimalObjs( info_file )\n",
    "for a in animals:\n",
    "  locomotion.trajectory.getCurveData( a )"
   ]
  },
  {
   "cell_type": "code",
   "execution_count": 6,
   "metadata": {},
   "outputs": [
    {
     "name": "stdout",
     "output_type": "stream",
     "text": [
      "LOG: Applying DTW to the data from files SS_01 and SS_02...\n",
      "LOG: distance between SS_01 and SS_02: 0.20283\n",
      "LOG: Applying DTW to the data from files SS_01 and NSS_01...\n",
      "LOG: distance between SS_01 and NSS_01: 0.28605\n",
      "LOG: Applying DTW to the data from files SS_01 and NSS_02...\n",
      "LOG: distance between SS_01 and NSS_02: 0.17830\n",
      "LOG: Applying DTW to the data from files SS_02 and NSS_01...\n",
      "LOG: distance between SS_02 and NSS_01: 0.24460\n",
      "LOG: Applying DTW to the data from files SS_02 and NSS_02...\n",
      "LOG: distance between SS_02 and NSS_02: 0.23165\n",
      "LOG: Applying DTW to the data from files NSS_01 and NSS_02...\n",
      "LOG: distance between NSS_01 and NSS_02: 0.27423\n"
     ]
    }
   ],
   "source": [
    "variables = ['Y','Velocity','Curvature']\n",
    "norm_mode = 'spec'\n",
    "number_of_comparisons_per_animal, specified_durations = 100, None\n",
    "output_directory, outfile_name = PATH_TO_DIRECTORY, \"results\"\n",
    "start_time, end_time = 0, 1\n",
    "distances = locomotion.trajectory.computeAllBDD(animals,\n",
    "                                                variables,\n",
    "                                                start_time,\n",
    "                                                end_time,\n",
    "                                                norm_mode)\n"
   ]
  },
  {
   "cell_type": "code",
   "execution_count": null,
   "metadata": {},
   "outputs": [
    {
     "name": "stdout",
     "output_type": "stream",
     "text": [
      "LOG: Wrote the results in /home/zhongxuan/ync/compgeom/results/results.csv\n"
     ]
    }
   ],
   "source": [
    "output_directory, outfile_name = PATH_TO_DIRECTORY + \"/results\", \"results\"\n",
    "sort_table, square_table = False, False\n",
    "color_min, color_max = 0.1, 0.5\n",
    "locomotion.write.postProcess(animals,\n",
    "                             distances,\n",
    "                             output_directory,\n",
    "                             outfile_name,\n",
    "                             sort_table,\n",
    "                             square_table,\n",
    "                             color_min,\n",
    "                             color_max)"
   ]
  }
 ],
 "metadata": {
  "kernelspec": {
   "display_name": "Python 3",
   "language": "python",
   "name": "python3"
  },
  "language_info": {
   "codemirror_mode": {
    "name": "ipython",
    "version": 3
   },
   "file_extension": ".py",
   "mimetype": "text/x-python",
   "name": "python",
   "nbconvert_exporter": "python",
   "pygments_lexer": "ipython3",
   "version": "3.7.3"
  }
 },
 "nbformat": 4,
 "nbformat_minor": 2
}
